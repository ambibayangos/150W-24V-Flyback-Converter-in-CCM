{
 "cells": [
  {
   "cell_type": "code",
   "execution_count": 72,
   "id": "c31d3ddb",
   "metadata": {},
   "outputs": [
    {
     "name": "stdout",
     "output_type": "stream",
     "text": [
      "0.522 + 0.548*sin(628318.531*time) + 0.828*cos(628318.531*time) + 0.564*sin(1256637.062*time) + 0.326*cos(1256637.062*time) + 0.417*sin(1884955.5929999999*time) + -0.12*cos(1884955.5929999999*time) + 0.09*sin(2513274.124*time) + -0.262*cos(2513274.124*time) + -0.135*sin(3141592.655*time) + -0.121*cos(3141592.655*time) + -0.123*sin(3769911.1859999998*time) + 0.081*cos(3769911.1859999998*time) + 0.029*sin(4398229.717*time) + 0.142*cos(4398229.717*time) + 0.132*sin(5026548.248*time) + 0.042*cos(5026548.248*time) + 0.091*sin(5654866.778999999*time) + -0.081*cos(5654866.778999999*time) + -0.025*sin(6283185.31*time) + -0.098*cos(6283185.31*time) + -0.085*sin(6911503.841*time) + -0.012*cos(6911503.841*time) + -0.039*sin(7539822.3719999995*time) + 0.071*cos(7539822.3719999995*time) + 0.048*sin(8168140.902999999*time) + 0.065*cos(8168140.902999999*time) + 0.076*sin(8796459.434*time) + -0.011*cos(8796459.434*time) + 0.024*sin(9424777.965*time) + -0.065*cos(9424777.965*time) + -0.044*sin(10053096.496*time) + -0.044*cos(10053096.496*time) + -0.053*sin(10681415.026999999*time) + 0.022*cos(10681415.026999999*time) + -0.0*sin(11309733.557999998*time) + 0.056*cos(11309733.557999998*time) + 0.049*sin(11938052.089*time) + 0.025*cos(11938052.089*time) + 0.043*sin(12566370.62*time) + -0.031*cos(12566370.62*time)\n"
     ]
    }
   ],
   "source": [
    "import math\n",
    "from math import cos\n",
    "\n",
    "# constants\n",
    "pi = math.pi\n",
    "\n",
    "# parameters\n",
    "f = 100000 # fundamental freq\n",
    "T = 1/f # fundamental period\n",
    "w = 2*pi*f # fundamental freq in rads/s\n",
    "w = round(w,3)\n",
    "D = 0.18  # duty cycle\n",
    "\n",
    "# waveforms specific params\n",
    "A = 321111  # slope of the current wav in amps/sec\n",
    "B = 2.62  # initial value of the current wav in amps\n",
    "harmonics = 20\n",
    "\n",
    "bo = \"0.522\" # DC component in amps\n",
    "bn = 0.0\n",
    "pri_out = bo\n",
    "time = \"time\"\n",
    "for i in range(harmonics):\n",
    "    n = i + 1\n",
    "    bn = (2*(A*sin(D*n*T*w) + B*w - n*w*(A*D*T+B)*cos(D*n*T*w)))/(n*n*w*w*T)\n",
    "    an = (2*(n*w*(A*D*T+B)*sin(D*n*T*w) + A*cos(D*n*T*w) - A))/(n*n*w*w*T)\n",
    "    bn = round(bn,3)\n",
    "    an = round(an,3)\n",
    "    pri_out = pri_out + f' + {bn}*sin({str(w*n)}*{time})' f' + {an}*cos({str(w*n)}*{time})'\n",
    "\n",
    "print(pri_out)\n"
   ]
  },
  {
   "cell_type": "markdown",
   "id": "1dc847b3",
   "metadata": {},
   "source": [
    "# "
   ]
  },
  {
   "cell_type": "code",
   "execution_count": 65,
   "id": "cbb4547b",
   "metadata": {},
   "outputs": [
    {
     "name": "stdout",
     "output_type": "stream",
     "text": [
      "1.2312\n"
     ]
    }
   ],
   "source": [
    "import math\n",
    "\n",
    "a = 1.2312312\n",
    "b = round(a,4)\n",
    "print(b)"
   ]
  },
  {
   "cell_type": "code",
   "execution_count": null,
   "id": "949fc17e",
   "metadata": {},
   "outputs": [],
   "source": []
  }
 ],
 "metadata": {
  "kernelspec": {
   "display_name": "Python 3 (ipykernel)",
   "language": "python",
   "name": "python3"
  },
  "language_info": {
   "codemirror_mode": {
    "name": "ipython",
    "version": 3
   },
   "file_extension": ".py",
   "mimetype": "text/x-python",
   "name": "python",
   "nbconvert_exporter": "python",
   "pygments_lexer": "ipython3",
   "version": "3.9.13"
  }
 },
 "nbformat": 4,
 "nbformat_minor": 5
}
